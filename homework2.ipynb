{
 "cells": [
  {
   "cell_type": "code",
   "execution_count": 7,
   "metadata": {},
   "outputs": [
    {
     "name": "stdout",
     "output_type": "stream",
     "text": [
      "input:9\n",
      "太大囉\n",
      "input:7\n",
      "太小囉\n",
      "input:8\n",
      "答對了\n"
     ]
    }
   ],
   "source": [
    "x = 0\n",
    "while x != 8:\n",
    "    x = input(\"input:\")\n",
    "    if x == 'q':\n",
    "        print(\"離開\")\n",
    "        break\n",
    "    elif eval(x) < 8:\n",
    "        print(\"太小囉\")\n",
    "    elif eval(x) > 8:\n",
    "        print(\"太大囉\")  \n",
    "    else: \n",
    "        print(\"答對了\")\n",
    "        break\n",
    "    "
   ]
  },
  {
   "cell_type": "code",
   "execution_count": null,
   "metadata": {},
   "outputs": [],
   "source": []
  },
  {
   "cell_type": "code",
   "execution_count": null,
   "metadata": {},
   "outputs": [],
   "source": []
  }
 ],
 "metadata": {
  "kernelspec": {
   "display_name": "Python 3",
   "language": "python",
   "name": "python3"
  },
  "language_info": {
   "codemirror_mode": {
    "name": "ipython",
    "version": 3
   },
   "file_extension": ".py",
   "mimetype": "text/x-python",
   "name": "python",
   "nbconvert_exporter": "python",
   "pygments_lexer": "ipython3",
   "version": "3.6.7"
  }
 },
 "nbformat": 4,
 "nbformat_minor": 2
}
